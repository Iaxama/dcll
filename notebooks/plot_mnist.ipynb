{
 "cells": [
  {
   "cell_type": "code",
   "execution_count": 2,
   "metadata": {},
   "outputs": [],
   "source": [
    "from pylab import *\n",
    "import numpy as np\n",
    "import matplotlib, pylab\n",
    "from dcll.npamlib import plotLIF\n",
    "from dcll.pytorch_libdcll import *\n",
    "import os.path as path\n",
    "\n",
    "matplotlib.rcParams['text.usetex']=False\n",
    "matplotlib.rcParams['savefig.dpi']=400.\n",
    "matplotlib.rcParams['font.size']=14.0\n",
    "matplotlib.rcParams['figure.figsize']=(5.0,3.5)\n",
    "matplotlib.rcParams['axes.formatter.limits']=[-10,10]\n",
    "matplotlib.rcParams['axes.labelsize']= 14.\n",
    "matplotlib.rcParams['figure.subplot.bottom'] = .2\n",
    "matplotlib.rcParams['figure.subplot.left'] = .2       "
   ]
  },
  {
   "cell_type": "code",
   "execution_count": 25,
   "metadata": {},
   "outputs": [
    {
     "name": "stdout",
     "output_type": "stream",
     "text": [
      "[1, 3, 5, 7]\n",
      "[2, 4, 6, 8]\n"
     ]
    }
   ],
   "source": [
    "all_layers_folder_id = range(1, 9, 2)\n",
    "skip_first_folder_id = range(2, 9, 2)\n",
    "base_folder = \"../Paper_results/{:03d}__04-10-2018\"\n",
    "all_layers_folders = [\n",
    "    base_folder.format(n) for n in all_layers_folder_id\n",
    "]\n",
    "skip_first_folders = [\n",
    "    base_folder.format(n) for n in skip_first_folder_id\n",
    "]\n",
    "print(list(all_layers_folder_id))\n",
    "print(list(skip_first_folder_id))"
   ]
  },
  {
   "cell_type": "code",
   "execution_count": 28,
   "metadata": {},
   "outputs": [],
   "source": [
    "import pickle\n",
    "    \n",
    "def plot_accuracy(directories, skip_first=False):\n",
    "    args = np.load(path.join(directories[0],\"args.pkl\"))\n",
    "    batch_size = args['batch_size']\n",
    "    n_test_interval = args['n_test_interval']\n",
    "    # assert(skip_first == args['skip_first'])\n",
    " \n",
    "    acc_test = [ np.load(path.join(d, \"acc_test.npy\")) for d in directories ]\n",
    "    acc_test = np.array(acc_test)\n",
    "    print(\"(n_runs, n_epoch/test_interval, n_batch_test, n_layers): {}\".format(acc_test.shape))\n",
    "    n_epoch = (acc_test.shape[1] - 1) * n_test_interval + 1\n",
    "    n_layers = acc_test.shape[3]\n",
    "    \n",
    "    parameters = pickle.load(open(path.join(directories[0], 'parameters_{}.pkl'.format(n_epoch-1)), 'rb'))\n",
    "    n_weights = 0\n",
    "    n_bias = 0\n",
    "    for k, v in parameters.items():\n",
    "        if skip_first and k.startswith('layer1'):\n",
    "            continue\n",
    "        elif k.endswith('.i2h.weight'):\n",
    "            n_weights += v.size\n",
    "        elif k.endswith('.i2h.bias'):\n",
    "            n_bias +=v.size            \n",
    "    print(\"number of trained weights: {} bias: {}\".format(n_weights, n_bias))\n",
    "    print(\"number of test samples: {}\".format(acc_test.shape[2] * batch_size))\n",
    "\n",
    "    print(acc_test[0, 15, 1, 2])\n",
    "    test_epochs = np.arange(0, n_epoch, n_test_interval, dtype='int') + 1\n",
    "    # mean over the multiple test batches\n",
    "    weighted_acc = np.mean(acc_test, axis=2)\n",
    "    # mean over the multiple runs with different seeds\n",
    "    mean_acc = np.mean(weighted_acc, axis=0)\n",
    "    std_acc = np.std(weighted_acc, axis=0)\n",
    "    \n",
    "    print(\"Accuracy: {}\".format(mean_acc[:, -1]))\n",
    "    \n",
    "    fig = figure()\n",
    "    ax = subplot(111)\n",
    "    n_updates_tick = 1\n",
    "    x = test_epochs*batch_size//n_updates_tick\n",
    "    \n",
    "    for l in range(n_layers):\n",
    "        if skip_first and l==0:\n",
    "             linestyle='--'\n",
    "        else:\n",
    "            linestyle='-'\n",
    "        ax.plot(x, 1-mean_acc[:,l],\n",
    "                linewidth=3, linestyle=linestyle,\n",
    "                alpha=.75, label = 'Layer {}'.format(l+1))\n",
    "        ax.fill_between(x, 1-mean_acc[:,l] - std_acc[:,l], 1-mean_acc[:,l] + std_acc[:,l],\n",
    "                       alpha=.2)\n",
    "        \n",
    "    ax.set_yticks(np.arange(0,1.1,0.1))\n",
    "    ax.grid()\n",
    "    legend()\n",
    "    ax.set_ylabel('Error[%]')\n",
    "    ax.set_xlabel('Training Samples [{}]'.format(n_updates_tick))\n",
    "    tight_layout()\n",
    "    ax.set_ylim([0,1.])\n",
    "    ax.set_xlim(batch_size, n_epoch*batch_size // n_updates_tick)\n",
    "    savefig(path.join(path.dirname(directories[0]), 'convergence_mnist_skip{}.png'.format(skip_first)), dpi=300, frameon=False)"
   ]
  },
  {
   "cell_type": "markdown",
   "metadata": {},
   "source": [
    "# Accuracy of the network"
   ]
  },
  {
   "cell_type": "code",
   "execution_count": 29,
   "metadata": {},
   "outputs": [
    {
     "name": "stdout",
     "output_type": "stream",
     "text": [
      "(n_runs, n_epoch/test_interval, n_batch_test, n_layers): (4, 34, 24, 3)\n",
      "number of trained weights: 57232 bias: 72\n",
      "number of test samples: 1536\n",
      "0.953125\n",
      "Accuracy: [0.46614583 0.74527995 0.79475911 0.82763672 0.85221354 0.85611979\n",
      " 0.8741862  0.87141927 0.88134766 0.87695312 0.89355469 0.89453125\n",
      " 0.89860026 0.90966797 0.9148763  0.91422526 0.90917969 0.92285156\n",
      " 0.92057292 0.91943359 0.9132487  0.91959635 0.92643229 0.92789714\n",
      " 0.92301432 0.92431641 0.92773438 0.92464193 0.92529297 0.9288737\n",
      " 0.93066406 0.92936198 0.92708333 0.92740885]\n"
     ]
    },
    {
     "data": {
      "image/png": "[encoded data removed]",
      "text/plain": [
       "<Figure size 432x288 with 1 Axes>"
      ]
     },
     "metadata": {
      "needs_background": "light"
     },
     "output_type": "display_data"
    }
   ],
   "source": [
    "plot_accuracy(all_layers_folders)"
   ]
  },
  {
   "cell_type": "markdown",
   "metadata": {},
   "source": [
    "# Accuracy of the network when first layer is disabled"
   ]
  },
  {
   "cell_type": "code",
   "execution_count": 30,
   "metadata": {},
   "outputs": [
    {
     "name": "stdout",
     "output_type": "stream",
     "text": [
      "(n_runs, n_epoch/test_interval, n_batch_test, n_layers): (4, 34, 24, 3)\n",
      "number of trained weights: 56448 bias: 56\n",
      "number of test samples: 1536\n",
      "0.9375\n",
      "Accuracy: [0.46582031 0.74593099 0.79313151 0.82389323 0.84733073 0.8601888\n",
      " 0.87467448 0.875      0.88069661 0.87874349 0.89274089 0.89599609\n",
      " 0.89648438 0.90690104 0.91194661 0.91292318 0.9078776  0.91975911\n",
      " 0.91699219 0.92480469 0.91975911 0.91813151 0.92561849 0.93180339\n",
      " 0.92252604 0.92561849 0.93343099 0.921875   0.92871094 0.93277995\n",
      " 0.92903646 0.93310547 0.92936198 0.9288737 ]\n"
     ]
    },
    {
     "data": {
      "image/png": "[encoded data removed]",
      "text/plain": [
       "<Figure size 432x288 with 1 Axes>"
      ]
     },
     "metadata": {
      "needs_background": "light"
     },
     "output_type": "display_data"
    }
   ],
   "source": [
    "plot_accuracy(skip_first_folders, skip_first=True)"
   ]
  },
  {
   "cell_type": "code",
   "execution_count": 31,
   "metadata": {},
   "outputs": [],
   "source": [
    "acc_test = [ np.load(path.join(d, \"acc_test.npy\")) for d in all_layers_folders ]\n",
    "acc_test = np.array(acc_test)"
   ]
  },
  {
   "cell_type": "code",
   "execution_count": 9,
   "metadata": {},
   "outputs": [
    {
     "data": {
      "text/plain": [
       "array([[[[0.078125, 0.3125  , 0.359375],\n",
       "         [0.078125, 0.3125  , 0.359375],\n",
       "         [0.078125, 0.3125  , 0.359375],\n",
       "         ...,\n",
       "         [0.078125, 0.3125  , 0.359375],\n",
       "         [0.078125, 0.3125  , 0.359375],\n",
       "         [0.078125, 0.3125  , 0.359375]],\n",
       "\n",
       "        [[0.0625  , 0.5625  , 0.78125 ],\n",
       "         [0.0625  , 0.5625  , 0.78125 ],\n",
       "         [0.0625  , 0.5625  , 0.78125 ],\n",
       "         ...,\n",
       "         [0.0625  , 0.5625  , 0.796875],\n",
       "         [0.0625  , 0.5625  , 0.796875],\n",
       "         [0.0625  , 0.5625  , 0.796875]],\n",
       "\n",
       "        [[0.140625, 0.53125 , 0.90625 ],\n",
       "         [0.140625, 0.53125 , 0.90625 ],\n",
       "         [0.140625, 0.53125 , 0.90625 ],\n",
       "         ...,\n",
       "         [0.140625, 0.53125 , 0.90625 ],\n",
       "         [0.140625, 0.53125 , 0.90625 ],\n",
       "         [0.140625, 0.53125 , 0.90625 ]],\n",
       "\n",
       "        ...,\n",
       "\n",
       "        [[0.15625 , 0.9375  , 1.      ],\n",
       "         [0.15625 , 0.9375  , 1.      ],\n",
       "         [0.15625 , 0.9375  , 1.      ],\n",
       "         ...,\n",
       "         [0.15625 , 0.9375  , 1.      ],\n",
       "         [0.15625 , 0.9375  , 1.      ],\n",
       "         [0.15625 , 0.9375  , 1.      ]],\n",
       "\n",
       "        [[0.0625  , 0.875   , 0.953125],\n",
       "         [0.0625  , 0.875   , 0.953125],\n",
       "         [0.0625  , 0.875   , 0.953125],\n",
       "         ...,\n",
       "         [0.0625  , 0.890625, 0.953125],\n",
       "         [0.0625  , 0.890625, 0.953125],\n",
       "         [0.0625  , 0.890625, 0.953125]],\n",
       "\n",
       "        [[0.09375 , 0.84375 , 1.      ],\n",
       "         [0.09375 , 0.84375 , 1.      ],\n",
       "         [0.09375 , 0.84375 , 1.      ],\n",
       "         ...,\n",
       "         [0.09375 , 0.84375 , 1.      ],\n",
       "         [0.09375 , 0.84375 , 1.      ],\n",
       "         [0.09375 , 0.84375 , 1.      ]]],\n",
       "\n",
       "\n",
       "       [[[0.140625, 0.171875, 0.265625],\n",
       "         [0.140625, 0.171875, 0.265625],\n",
       "         [0.140625, 0.171875, 0.265625],\n",
       "         ...,\n",
       "         [0.140625, 0.171875, 0.265625],\n",
       "         [0.140625, 0.171875, 0.265625],\n",
       "         [0.140625, 0.171875, 0.265625]],\n",
       "\n",
       "        [[0.0625  , 0.453125, 0.59375 ],\n",
       "         [0.0625  , 0.453125, 0.59375 ],\n",
       "         [0.0625  , 0.4375  , 0.59375 ],\n",
       "         ...,\n",
       "         [0.0625  , 0.4375  , 0.59375 ],\n",
       "         [0.0625  , 0.4375  , 0.59375 ],\n",
       "         [0.0625  , 0.4375  , 0.59375 ]],\n",
       "\n",
       "        [[0.09375 , 0.609375, 0.875   ],\n",
       "         [0.09375 , 0.609375, 0.875   ],\n",
       "         [0.09375 , 0.609375, 0.875   ],\n",
       "         ...,\n",
       "         [0.09375 , 0.609375, 0.875   ],\n",
       "         [0.09375 , 0.609375, 0.875   ],\n",
       "         [0.09375 , 0.609375, 0.875   ]],\n",
       "\n",
       "        ...,\n",
       "\n",
       "        [[0.0625  , 0.890625, 0.96875 ],\n",
       "         [0.0625  , 0.890625, 0.96875 ],\n",
       "         [0.0625  , 0.890625, 0.96875 ],\n",
       "         ...,\n",
       "         [0.0625  , 0.890625, 0.96875 ],\n",
       "         [0.0625  , 0.890625, 0.96875 ],\n",
       "         [0.0625  , 0.890625, 0.96875 ]],\n",
       "\n",
       "        [[0.125   , 0.90625 , 0.984375],\n",
       "         [0.125   , 0.90625 , 0.984375],\n",
       "         [0.125   , 0.90625 , 0.984375],\n",
       "         ...,\n",
       "         [0.125   , 0.90625 , 0.984375],\n",
       "         [0.125   , 0.90625 , 0.984375],\n",
       "         [0.125   , 0.90625 , 0.984375]],\n",
       "\n",
       "        [[0.0625  , 0.875   , 1.      ],\n",
       "         [0.0625  , 0.875   , 1.      ],\n",
       "         [0.0625  , 0.875   , 1.      ],\n",
       "         ...,\n",
       "         [0.0625  , 0.875   , 1.      ],\n",
       "         [0.0625  , 0.875   , 1.      ],\n",
       "         [0.0625  , 0.875   , 1.      ]]],\n",
       "\n",
       "\n",
       "       [[[0.125   , 0.296875, 0.40625 ],\n",
       "         [0.125   , 0.296875, 0.40625 ],\n",
       "         [0.125   , 0.296875, 0.40625 ],\n",
       "         ...,\n",
       "         [0.125   , 0.296875, 0.40625 ],\n",
       "         [0.125   , 0.296875, 0.40625 ],\n",
       "         [0.125   , 0.296875, 0.40625 ]],\n",
       "\n",
       "        [[0.09375 , 0.546875, 0.6875  ],\n",
       "         [0.09375 , 0.546875, 0.6875  ],\n",
       "         [0.09375 , 0.546875, 0.6875  ],\n",
       "         ...,\n",
       "         [0.09375 , 0.546875, 0.6875  ],\n",
       "         [0.09375 , 0.546875, 0.6875  ],\n",
       "         [0.09375 , 0.546875, 0.6875  ]],\n",
       "\n",
       "        [[0.0625  , 0.59375 , 0.9375  ],\n",
       "         [0.0625  , 0.59375 , 0.9375  ],\n",
       "         [0.0625  , 0.59375 , 0.9375  ],\n",
       "         ...,\n",
       "         [0.0625  , 0.59375 , 0.9375  ],\n",
       "         [0.0625  , 0.59375 , 0.9375  ],\n",
       "         [0.0625  , 0.59375 , 0.9375  ]],\n",
       "\n",
       "        ...,\n",
       "\n",
       "        [[0.1875  , 0.875   , 1.      ],\n",
       "         [0.1875  , 0.875   , 1.      ],\n",
       "         [0.1875  , 0.875   , 1.      ],\n",
       "         ...,\n",
       "         [0.1875  , 0.875   , 1.      ],\n",
       "         [0.1875  , 0.875   , 1.      ],\n",
       "         [0.1875  , 0.875   , 1.      ]],\n",
       "\n",
       "        [[0.15625 , 0.9375  , 0.984375],\n",
       "         [0.15625 , 0.9375  , 0.984375],\n",
       "         [0.15625 , 0.9375  , 0.984375],\n",
       "         ...,\n",
       "         [0.15625 , 0.9375  , 0.984375],\n",
       "         [0.15625 , 0.9375  , 0.984375],\n",
       "         [0.15625 , 0.9375  , 0.984375]],\n",
       "\n",
       "        [[0.078125, 0.96875 , 1.      ],\n",
       "         [0.078125, 0.96875 , 1.      ],\n",
       "         [0.078125, 0.96875 , 1.      ],\n",
       "         ...,\n",
       "         [0.078125, 0.96875 , 1.      ],\n",
       "         [0.078125, 0.96875 , 1.      ],\n",
       "         [0.078125, 0.96875 , 1.      ]]],\n",
       "\n",
       "\n",
       "       ...,\n",
       "\n",
       "\n",
       "       [[[0.03125 , 0.59375 , 0.640625],\n",
       "         [0.03125 , 0.59375 , 0.65625 ],\n",
       "         [0.03125 , 0.609375, 0.65625 ],\n",
       "         ...,\n",
       "         [0.03125 , 0.609375, 0.65625 ],\n",
       "         [0.03125 , 0.609375, 0.65625 ],\n",
       "         [0.03125 , 0.609375, 0.65625 ]],\n",
       "\n",
       "        [[0.125   , 0.703125, 0.921875],\n",
       "         [0.125   , 0.703125, 0.921875],\n",
       "         [0.125   , 0.703125, 0.90625 ],\n",
       "         ...,\n",
       "         [0.125   , 0.703125, 0.90625 ],\n",
       "         [0.125   , 0.703125, 0.90625 ],\n",
       "         [0.125   , 0.703125, 0.90625 ]],\n",
       "\n",
       "        [[0.046875, 0.78125 , 0.96875 ],\n",
       "         [0.046875, 0.765625, 0.96875 ],\n",
       "         [0.046875, 0.765625, 0.96875 ],\n",
       "         ...,\n",
       "         [0.046875, 0.765625, 0.96875 ],\n",
       "         [0.046875, 0.765625, 0.96875 ],\n",
       "         [0.046875, 0.765625, 0.96875 ]],\n",
       "\n",
       "        ...,\n",
       "\n",
       "        [[0.046875, 0.953125, 1.      ],\n",
       "         [0.046875, 0.953125, 1.      ],\n",
       "         [0.046875, 0.953125, 1.      ],\n",
       "         ...,\n",
       "         [0.046875, 0.953125, 1.      ],\n",
       "         [0.046875, 0.953125, 1.      ],\n",
       "         [0.046875, 0.953125, 1.      ]],\n",
       "\n",
       "        [[0.109375, 0.921875, 1.      ],\n",
       "         [0.109375, 0.921875, 1.      ],\n",
       "         [0.109375, 0.921875, 1.      ],\n",
       "         ...,\n",
       "         [0.109375, 0.921875, 1.      ],\n",
       "         [0.109375, 0.921875, 1.      ],\n",
       "         [0.109375, 0.921875, 1.      ]],\n",
       "\n",
       "        [[0.09375 , 0.921875, 1.      ],\n",
       "         [0.09375 , 0.921875, 1.      ],\n",
       "         [0.09375 , 0.921875, 1.      ],\n",
       "         ...,\n",
       "         [0.09375 , 0.921875, 1.      ],\n",
       "         [0.09375 , 0.921875, 1.      ],\n",
       "         [0.09375 , 0.921875, 1.      ]]],\n",
       "\n",
       "\n",
       "       [[[0.046875, 0.1875  , 0.28125 ],\n",
       "         [0.046875, 0.1875  , 0.28125 ],\n",
       "         [0.046875, 0.1875  , 0.28125 ],\n",
       "         ...,\n",
       "         [0.046875, 0.1875  , 0.28125 ],\n",
       "         [0.046875, 0.1875  , 0.28125 ],\n",
       "         [0.046875, 0.1875  , 0.28125 ]],\n",
       "\n",
       "        [[0.109375, 0.40625 , 0.6875  ],\n",
       "         [0.109375, 0.40625 , 0.6875  ],\n",
       "         [0.109375, 0.40625 , 0.6875  ],\n",
       "         ...,\n",
       "         [0.109375, 0.40625 , 0.6875  ],\n",
       "         [0.109375, 0.40625 , 0.6875  ],\n",
       "         [0.109375, 0.40625 , 0.6875  ]],\n",
       "\n",
       "        [[0.078125, 0.625   , 0.875   ],\n",
       "         [0.078125, 0.625   , 0.875   ],\n",
       "         [0.078125, 0.625   , 0.875   ],\n",
       "         ...,\n",
       "         [0.078125, 0.625   , 0.875   ],\n",
       "         [0.078125, 0.625   , 0.875   ],\n",
       "         [0.078125, 0.625   , 0.875   ]],\n",
       "\n",
       "        ...,\n",
       "\n",
       "        [[0.125   , 0.875   , 1.      ],\n",
       "         [0.125   , 0.875   , 1.      ],\n",
       "         [0.125   , 0.875   , 1.      ],\n",
       "         ...,\n",
       "         [0.125   , 0.875   , 1.      ],\n",
       "         [0.125   , 0.875   , 1.      ],\n",
       "         [0.125   , 0.875   , 1.      ]],\n",
       "\n",
       "        [[0.078125, 0.96875 , 1.      ],\n",
       "         [0.078125, 0.96875 , 1.      ],\n",
       "         [0.078125, 0.96875 , 1.      ],\n",
       "         ...,\n",
       "         [0.078125, 0.96875 , 1.      ],\n",
       "         [0.078125, 0.96875 , 1.      ],\n",
       "         [0.078125, 0.96875 , 1.      ]],\n",
       "\n",
       "        [[0.09375 , 0.9375  , 1.      ],\n",
       "         [0.09375 , 0.9375  , 1.      ],\n",
       "         [0.09375 , 0.9375  , 1.      ],\n",
       "         ...,\n",
       "         [0.09375 , 0.9375  , 1.      ],\n",
       "         [0.09375 , 0.9375  , 1.      ],\n",
       "         [0.09375 , 0.9375  , 1.      ]]],\n",
       "\n",
       "\n",
       "       [[[0.15625 , 0.46875 , 0.59375 ],\n",
       "         [0.15625 , 0.46875 , 0.609375],\n",
       "         [0.15625 , 0.46875 , 0.59375 ],\n",
       "         ...,\n",
       "         [0.15625 , 0.46875 , 0.59375 ],\n",
       "         [0.15625 , 0.46875 , 0.59375 ],\n",
       "         [0.15625 , 0.46875 , 0.59375 ]],\n",
       "\n",
       "        [[0.078125, 0.46875 , 0.6875  ],\n",
       "         [0.078125, 0.46875 , 0.6875  ],\n",
       "         [0.078125, 0.46875 , 0.6875  ],\n",
       "         ...,\n",
       "         [0.078125, 0.46875 , 0.6875  ],\n",
       "         [0.078125, 0.46875 , 0.6875  ],\n",
       "         [0.078125, 0.46875 , 0.6875  ]],\n",
       "\n",
       "        [[0.046875, 0.578125, 0.84375 ],\n",
       "         [0.046875, 0.578125, 0.84375 ],\n",
       "         [0.046875, 0.578125, 0.84375 ],\n",
       "         ...,\n",
       "         [0.046875, 0.578125, 0.84375 ],\n",
       "         [0.046875, 0.578125, 0.84375 ],\n",
       "         [0.046875, 0.578125, 0.84375 ]],\n",
       "\n",
       "        ...,\n",
       "\n",
       "        [[0.0625  , 0.875   , 0.96875 ],\n",
       "         [0.0625  , 0.875   , 0.96875 ],\n",
       "         [0.0625  , 0.875   , 0.96875 ],\n",
       "         ...,\n",
       "         [0.0625  , 0.875   , 0.96875 ],\n",
       "         [0.0625  , 0.875   , 0.96875 ],\n",
       "         [0.0625  , 0.875   , 0.96875 ]],\n",
       "\n",
       "        [[0.09375 , 0.953125, 1.      ],\n",
       "         [0.09375 , 0.953125, 1.      ],\n",
       "         [0.09375 , 0.953125, 1.      ],\n",
       "         ...,\n",
       "         [0.09375 , 0.953125, 1.      ],\n",
       "         [0.09375 , 0.953125, 1.      ],\n",
       "         [0.09375 , 0.953125, 1.      ]],\n",
       "\n",
       "        [[0.109375, 0.921875, 0.984375],\n",
       "         [0.109375, 0.921875, 0.984375],\n",
       "         [0.109375, 0.921875, 0.984375],\n",
       "         ...,\n",
       "         [0.109375, 0.921875, 0.984375],\n",
       "         [0.109375, 0.921875, 0.984375],\n",
       "         [0.109375, 0.921875, 0.984375]]]])"
      ]
     },
     "execution_count": 9,
     "metadata": {},
     "output_type": "execute_result"
    }
   ],
   "source": [
    "acc_test"
   ]
  },
  {
   "cell_type": "code",
   "execution_count": 10,
   "metadata": {},
   "outputs": [
    {
     "data": {
      "text/plain": [
       "(10, 30, 24, 3)"
      ]
     },
     "execution_count": 10,
     "metadata": {},
     "output_type": "execute_result"
    }
   ],
   "source": [
    "acc_test.shape"
   ]
  },
  {
   "cell_type": "code",
   "execution_count": 12,
   "metadata": {},
   "outputs": [
    {
     "data": {
      "text/plain": [
       "(10, 30, 3)"
      ]
     },
     "execution_count": 12,
     "metadata": {},
     "output_type": "execute_result"
    }
   ],
   "source": [
    "np.mean(acc_test, axis=2).shape"
   ]
  },
  {
   "cell_type": "code",
   "execution_count": 27,
   "metadata": {},
   "outputs": [
    {
     "data": {
      "text/plain": [
       "'../Paper_results/001__01-10-2018'"
      ]
     },
     "execution_count": 27,
     "metadata": {},
     "output_type": "execute_result"
    }
   ],
   "source": [
    "all_layers_folders[0]"
   ]
  },
  {
   "cell_type": "code",
   "execution_count": null,
   "metadata": {},
   "outputs": [],
   "source": []
  }
 ],
 "metadata": {
  "kernelspec": {
   "display_name": "Python 3",
   "language": "python",
   "name": "python3"
  },
  "language_info": {
   "codemirror_mode": {
    "name": "ipython",
    "version": 3
   },
   "file_extension": ".py",
   "mimetype": "text/x-python",
   "name": "python",
   "nbconvert_exporter": "python",
   "pygments_lexer": "ipython3",
   "version": "3.5.2"
  }
 },
 "nbformat": 4,
 "nbformat_minor": 2
}
